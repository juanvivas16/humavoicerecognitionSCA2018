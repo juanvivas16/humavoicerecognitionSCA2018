{
 "cells": [
  {
   "cell_type": "markdown",
   "metadata": {},
   "source": [
    "## Prueba de machine learning con un dataset de audio procesado\n",
    "\n",
    "Importando las librerias requeridas"
   ]
  },
  {
   "cell_type": "code",
   "execution_count": 1,
   "metadata": {
    "collapsed": false
   },
   "outputs": [
    {
     "name": "stderr",
     "output_type": "stream",
     "text": [
      "/home/zhyras/anaconda3/lib/python3.6/site-packages/h5py/__init__.py:36: FutureWarning: Conversion of the second argument of issubdtype from `float` to `np.floating` is deprecated. In future, it will be treated as `np.float64 == np.dtype(float).type`.\n",
      "  from ._conv import register_converters as _register_converters\n",
      "Using TensorFlow backend.\n"
     ]
    }
   ],
   "source": [
    "import tensorflow as tf\n",
    "from sklearn.metrics import precision_recall_fscore_support, roc_auc_score\n",
    "from keras.models import Sequential\n",
    "from keras.layers import Dense, Dropout\n",
    "from keras.optimizers import Adam\n",
    "from keras.callbacks import EarlyStopping\n",
    "import glob\n",
    "import os\n",
    "import numpy as np\n",
    "import matplotlib.pyplot as plt\n",
    "import librosa\n",
    "from sklearn.metrics import roc_curve, auc\n",
    "from keras.wrappers.scikit_learn import KerasClassifier\n",
    "from sklearn.model_selection import GridSearchCV\n",
    "from keras.constraints import maxnorm\n",
    "%matplotlib inline\n",
    "plt.style.use('ggplot')"
   ]
  },
  {
   "cell_type": "markdown",
   "metadata": {},
   "source": [
    "Agregamos los datos de audio ya procesados desde la carpeta data."
   ]
  },
  {
   "cell_type": "markdown",
   "metadata": {},
   "source": [
    "--------------------------------------------------------------------------------------------------------------------------"
   ]
  },
  {
   "cell_type": "markdown",
   "metadata": {},
   "source": [
    "### Importando los datos de audio del dataset ya trabajado"
   ]
  },
  {
   "cell_type": "code",
   "execution_count": 13,
   "metadata": {
    "collapsed": false
   },
   "outputs": [],
   "source": [
    "data_dir = \"data/us8k-np-ffn\"\n",
    "\n",
    "def add_folds():\n",
    "    subsequent_fold = False\n",
    "    for k in range(1,9):\n",
    "        fold_name = 'fold' + str(k)\n",
    "        print (\"Agregando \" + fold_name)\n",
    "        feature_file = os.path.join(data_dir, fold_name + '_x.npy')\n",
    "        labels_file = os.path.join(data_dir, fold_name + '_y.npy')\n",
    "        loaded_features = np.load(feature_file)\n",
    "        loaded_labels = np.load(labels_file)\n",
    "        print (\"Caracteristicas nuevas \", loaded_features.shape)\n",
    "\n",
    "        if subsequent_fold:\n",
    "            features = np.concatenate((features, loaded_features))\n",
    "            labels = np.concatenate((labels, loaded_labels))\n",
    "        else:\n",
    "            features = loaded_features\n",
    "            labels = loaded_labels\n",
    "            subsequent_fold = True\n",
    "        \n",
    "    return features, labels"
   ]
  },
  {
   "cell_type": "markdown",
   "metadata": {},
   "source": [
    "### Definimos los conjuntos de prueba y entrenamiento"
   ]
  },
  {
   "cell_type": "code",
   "execution_count": 14,
   "metadata": {},
   "outputs": [
    {
     "name": "stdout",
     "output_type": "stream",
     "text": [
      "Agregando fold1\n",
      "Caracteristicas nuevas  (873, 193)\n",
      "Agregando fold2\n",
      "Caracteristicas nuevas  (888, 193)\n",
      "Agregando fold3\n",
      "Caracteristicas nuevas  (925, 193)\n",
      "Agregando fold4\n",
      "Caracteristicas nuevas  (990, 193)\n",
      "Agregando fold5\n",
      "Caracteristicas nuevas  (936, 193)\n",
      "Agregando fold6\n",
      "Caracteristicas nuevas  (823, 193)\n",
      "Agregando fold7\n",
      "Caracteristicas nuevas  (838, 193)\n",
      "Agregando fold8\n",
      "Caracteristicas nuevas  (806, 193)\n",
      "Conjunto de entrenamiento: (7079, 193) Labels: (7079, 10)\n",
      "Conjunto de validacion (816, 193) Labels: (816, 10)\n",
      "Atributos del conjunto de prueba (837, 193) Labels: (837, 10)\n"
     ]
    }
   ],
   "source": [
    "train_x, train_y = add_folds()\n",
    "\n",
    "valid_fold_name = 'fold9'\n",
    "feature_file = os.path.join(data_dir, valid_fold_name + '_x.npy')\n",
    "labels_file = os.path.join(data_dir, valid_fold_name + '_y.npy')\n",
    "valid_x = np.load(feature_file)\n",
    "valid_y = np.load(labels_file) \n",
    "\n",
    "test_fold_name = 'fold10'\n",
    "feature_file = os.path.join(data_dir, test_fold_name + '_x.npy')\n",
    "labels_file = os.path.join(data_dir, test_fold_name + '_y.npy')\n",
    "test_x = np.load(feature_file)\n",
    "test_y = np.load(labels_file)\n",
    "\n",
    "print (\"Conjunto de entrenamiento:\", train_x.shape, \"Labels:\", train_y.shape)\n",
    "print (\"Conjunto de validacion\", valid_x.shape, \"Labels:\", valid_y.shape)\n",
    "print (\"Atributos del conjunto de prueba\", test_x.shape, \"Labels:\", test_y.shape)"
   ]
  },
  {
   "cell_type": "code",
   "execution_count": 12,
   "metadata": {
    "collapsed": false
   },
   "outputs": [
    {
     "name": "stdout",
     "output_type": "stream",
     "text": [
      "Atributos 193 Clases: 10\n"
     ]
    }
   ],
   "source": [
    "def assure_path_exists(path):\n",
    "    mydir = os.path.join(os.getcwd(), path)\n",
    "    if not os.path.exists(mydir):\n",
    "        os.makedirs(mydir)\n",
    "\n",
    "n_dim = train_x.shape[1]\n",
    "n_classes = train_y.shape[1]\n",
    "n_hidden_units_1 = n_dim\n",
    "n_hidden_units_2 = 400 \n",
    "n_hidden_units_3 = 200 \n",
    "\n",
    "checkpoint_dir = \"model\"\n",
    "assure_path_exists(checkpoint_dir)\n",
    "\n",
    "print (\"Atributos:\", n_dim, \"Clases:\", n_classes)"
   ]
  },
  {
   "cell_type": "code",
   "execution_count": 5,
   "metadata": {},
   "outputs": [],
   "source": [
    "tf.set_random_seed(0)\n",
    "np.random.seed(0)"
   ]
  },
  {
   "cell_type": "markdown",
   "metadata": {},
   "source": [
    "## Modelo con redes neuronales profundas"
   ]
  },
  {
   "cell_type": "code",
   "execution_count": 6,
   "metadata": {
    "collapsed": false
   },
   "outputs": [],
   "source": [
    "def create_model(activation_function='relu', init_type='normal', optimiser='Adamax', dropout_rate=0.5):\n",
    "    model = Sequential()\n",
    "    model.add(Dense(n_hidden_units_1, input_dim=n_dim, init=init_type, activation=activation_function))\n",
    "    model.add(Dense(n_hidden_units_2, init=init_type, activation=activation_function))\n",
    "    model.add(Dropout(dropout_rate))\n",
    "    model.add(Dense(n_hidden_units_3, init=init_type, activation=activation_function))\n",
    "    model.add(Dropout(dropout_rate))\n",
    "    model.add(Dense(n_classes, init=init_type, activation='softmax'))\n",
    "    model.compile(loss='categorical_crossentropy', optimizer=optimiser, metrics=['accuracy'])\n",
    "    return model"
   ]
  },
  {
   "cell_type": "markdown",
   "metadata": {},
   "source": [
    "### Entrenamos el modelo y vemos su precision"
   ]
  },
  {
   "cell_type": "code",
   "execution_count": 7,
   "metadata": {},
   "outputs": [
    {
     "name": "stderr",
     "output_type": "stream",
     "text": [
      "/home/zhyras/anaconda3/lib/python3.6/site-packages/ipykernel_launcher.py:3: UserWarning: Update your `Dense` call to the Keras 2 API: `Dense(193, input_dim=193, activation=\"relu\", kernel_initializer=\"normal\")`\n",
      "  This is separate from the ipykernel package so we can avoid doing imports until\n",
      "/home/zhyras/anaconda3/lib/python3.6/site-packages/ipykernel_launcher.py:4: UserWarning: Update your `Dense` call to the Keras 2 API: `Dense(400, activation=\"relu\", kernel_initializer=\"normal\")`\n",
      "  after removing the cwd from sys.path.\n",
      "/home/zhyras/anaconda3/lib/python3.6/site-packages/ipykernel_launcher.py:6: UserWarning: Update your `Dense` call to the Keras 2 API: `Dense(200, activation=\"relu\", kernel_initializer=\"normal\")`\n",
      "  \n",
      "/home/zhyras/anaconda3/lib/python3.6/site-packages/ipykernel_launcher.py:8: UserWarning: Update your `Dense` call to the Keras 2 API: `Dense(10, activation=\"softmax\", kernel_initializer=\"normal\")`\n",
      "  \n",
      "/home/zhyras/anaconda3/lib/python3.6/site-packages/keras/models.py:942: UserWarning: The `nb_epoch` argument in `fit` has been renamed `epochs`.\n",
      "  warnings.warn('The `nb_epoch` argument in `fit` '\n"
     ]
    },
    {
     "name": "stdout",
     "output_type": "stream",
     "text": [
      "Train on 7079 samples, validate on 816 samples\n",
      "Epoch 1/30\n",
      "7079/7079 [==============================] - 5s 731us/step - loss: 2.3034 - acc: 0.3092 - val_loss: 1.5481 - val_acc: 0.4461\n",
      "Epoch 2/30\n",
      "7079/7079 [==============================] - 5s 640us/step - loss: 1.5936 - acc: 0.4744 - val_loss: 1.4385 - val_acc: 0.4902\n",
      "Epoch 3/30\n",
      "7079/7079 [==============================] - 5s 669us/step - loss: 1.3320 - acc: 0.5670 - val_loss: 1.3871 - val_acc: 0.5245\n",
      "Epoch 4/30\n",
      "7079/7079 [==============================] - 5s 736us/step - loss: 1.1760 - acc: 0.6172 - val_loss: 1.3527 - val_acc: 0.5625\n",
      "Epoch 5/30\n",
      "7079/7079 [==============================] - 5s 683us/step - loss: 1.0434 - acc: 0.6559 - val_loss: 1.3794 - val_acc: 0.5711\n",
      "Epoch 6/30\n",
      "7079/7079 [==============================] - 5s 756us/step - loss: 0.9389 - acc: 0.6985 - val_loss: 1.4664 - val_acc: 0.5674\n",
      "Epoch 7/30\n",
      "7079/7079 [==============================] - 5s 699us/step - loss: 0.8612 - acc: 0.7272 - val_loss: 1.4779 - val_acc: 0.5993\n",
      "Epoch 00007: early stopping\n"
     ]
    }
   ],
   "source": [
    "# a stopping function to stop training before we excessively overfit to the training set\n",
    "earlystop = EarlyStopping(monitor='val_loss', patience=3, verbose=1, mode='auto')\n",
    "model = create_model()\n",
    "history = model.fit(train_x, train_y, validation_data=(valid_x, valid_y), callbacks=[earlystop], nb_epoch=30, batch_size=24)"
   ]
  },
  {
   "cell_type": "markdown",
   "metadata": {},
   "source": [
    "### Curva ROC\n",
    "La curva característica operativa del receptor (ROC) es una herramienta común utilizada con los clasificadores binarios. La curva ROC traza la tasa de verdaderos positivos (TVP) frente a la tasa de falsos positivos (TFP). La TFP es la proporción de instancias negativas que se clasifican incorrectamente como positivas. Es igual a uno menos la tasa de verdaderos negativos (TVN), que es la proporción de instancias negativas que se clasifican correctamente como negativas. El TVN también se llama especificidad. Por lo tanto, la curva ROC traza la sensibilidad (recuperación) versus (1 - especificidad). La precisión se mide por el área bajo la curva ROC. Un área de 1 representa una prueba perfecta; un área de .5 representa una prueba sin valor\n"
   ]
  },
  {
   "cell_type": "code",
   "execution_count": 8,
   "metadata": {
    "collapsed": false
   },
   "outputs": [
    {
     "data": {
      "image/png": "[encoded data removed]",
      "text/plain": [
       "<Figure size 432x288 with 1 Axes>"
      ]
     },
     "metadata": {},
     "output_type": "display_data"
    }
   ],
   "source": [
    "y_prob = model.predict_proba(test_x, verbose=0)\n",
    "\n",
    "fpr = dict()\n",
    "tpr = dict()\n",
    "roc_auc = dict()\n",
    "for i in range(n_classes):\n",
    "    fpr[i], tpr[i], _ = roc_curve(test_y[:, i], y_prob[:, i])\n",
    "    roc_auc[i] = auc(fpr[i], tpr[i])\n",
    "\n",
    "# Compute micro-average ROC curve and ROC area\n",
    "fpr[\"micro\"], tpr[\"micro\"], _ = roc_curve(test_y.ravel(), y_prob.ravel())\n",
    "roc_auc[\"micro\"] = auc(fpr[\"micro\"], tpr[\"micro\"])\n",
    "\n",
    "plt.figure()\n",
    "lw = 2\n",
    "plt.plot(fpr[2], tpr[2], color='darkorange', lw=lw, label='ROC curve (area = %0.2f)' % roc_auc[2])\n",
    "plt.plot([0, 1], [0, 1], color='navy', lw=lw, linestyle='--')\n",
    "plt.xlim([0.0, 1.0])\n",
    "plt.ylim([0.0, 1.05])\n",
    "plt.xlabel('False Positive Rate')\n",
    "plt.ylabel('True Positive Rate')\n",
    "plt.title('Receiver operating characteristic')\n",
    "plt.legend(loc=\"lower right\")\n",
    "plt.show()"
   ]
  },
  {
   "cell_type": "code",
   "execution_count": null,
   "metadata": {},
   "outputs": [],
   "source": []
  }
 ],
 "metadata": {
  "kernelspec": {
   "display_name": "Python 3",
   "language": "python",
   "name": "python3"
  },
  "language_info": {
   "codemirror_mode": {
    "name": "ipython",
    "version": 3
   },
   "file_extension": ".py",
   "mimetype": "text/x-python",
   "name": "python",
   "nbconvert_exporter": "python",
   "pygments_lexer": "ipython3",
   "version": "3.6.5"
  }
 },
 "nbformat": 4,
 "nbformat_minor": 2
}
